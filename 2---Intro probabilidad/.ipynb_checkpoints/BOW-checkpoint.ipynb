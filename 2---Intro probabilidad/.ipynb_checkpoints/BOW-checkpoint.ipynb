{
 "cells": [
  {
   "cell_type": "markdown",
   "metadata": {},
   "source": [
    "# Bag of words\n",
    "### Vocabulario\n",
    "{'casa':1,'auto':2} --> 'unk':0\n",
    "Se puede representar así\n",
    "\n",
    "[1 0 0]\n",
    "\n",
    "[0 1 0] --> one hot encoding\n",
    "\n",
    "[0 0 1]\n",
    "\n",
    "\n",
    "* [1 0 0] --> one hot vector\n",
    "\n",
    "* Da ortogonalidad en cada clase. Aveces es mala porque existe correlación entre las categorias.\n",
    "\n",
    "\"La casa y el auto\"\n",
    "\n",
    "[1 0 0] [0 1 0] [1 0 0] [1 0 0] [0 0 1]\n",
    "\n",
    "TFV = time frecuency vector\n",
    "\n",
    "cntPalabra --> [3 1 1]\n",
    "\n",
    "IDF = inverse document frecuency\n",
    "\n",
    "IDF = 1/log(cntPalabra)\n",
    "\n",
    "TF x IDF-->[]--> TFIDF\n",
    "* Para cada clase vamos a tener una medida de clasificación aparte.\n",
    "\n",
    "* cantidad de veces que aparece una palabra en documento\n",
    "\n",
    "min df --> [0,2 , 32]\n",
    "\n",
    "max df --> [0,85 , 5100]\n",
    "\n",
    "recortar cantidad máxima de palabras en el vocabulario\n",
    "\n",
    "stopwords [] -> lista de palabras de parada\n",
    "\n",
    "Lematización pasa todo a un mismo genero, cambia verbos por infinitivos.\n",
    "\n",
    "Stemming para todas las palabras a su raiz ejemplo: boxeo boxeara boxearía -> boxeo\n",
    "\n",
    "N-GRAM -> conjunto de n palabras o n toke\n",
    "\n",
    "token -> cada palabra\n",
    "\n",
    "----------------------------------------\n",
    "### Para usar tener en cuenta\n",
    "* caché \n",
    "* multiproc -> DASK (https://towardsdatascience.com/speeding-up-your-algorithms-part-4-dask-7c6ed79994ef)\n",
    "* k-folding -> (si la convinacion de hiperparámetros efectivamente es buena, o tomamos solo los mejores. Son buenos especificamente para el modelo de validacion, y no para todos los modelos) -> toma el train y lo divide en kfolds, del arreglo entreno con x-1 y 1 lo pongo de test, así obtengo perf1, luego entreno con x-2 y testeo con 2 obteniendo perf2, así hasta perfn -> performance gral = 1/k + sumatoria de performances --> método leave one out sklearn lo tiene armado.\n",
    "\n"
   ]
  },
  {
   "cell_type": "code",
   "execution_count": null,
   "metadata": {},
   "outputs": [],
   "source": []
  }
 ],
 "metadata": {
  "kernelspec": {
   "display_name": "Python (curso_pae)",
   "language": "python",
   "name": "myenv"
  },
  "language_info": {
   "codemirror_mode": {
    "name": "ipython",
    "version": 3
   },
   "file_extension": ".py",
   "mimetype": "text/x-python",
   "name": "python",
   "nbconvert_exporter": "python",
   "pygments_lexer": "ipython3",
   "version": "3.7.4"
  }
 },
 "nbformat": 4,
 "nbformat_minor": 2
}
