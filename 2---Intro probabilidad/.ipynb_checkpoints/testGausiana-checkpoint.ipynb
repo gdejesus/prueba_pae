{
 "cells": [
  {
   "cell_type": "code",
   "execution_count": 1,
   "metadata": {},
   "outputs": [],
   "source": [
    "import numpy as np\n",
    "from scipy.stats import norm\n",
    "import matplotlib.pyplot as plt\n",
    "from ipykernel import kernelapp as app\n",
    "import helperGauss as helper"
   ]
  },
  {
   "cell_type": "code",
   "execution_count": 2,
   "metadata": {},
   "outputs": [],
   "source": [
    "folder = \"./\"\n",
    "#Train data\n",
    "trainImages = np.load(folder+'train_images.npy').reshape(60000,-1)\n",
    "trainLabels = np.loadtxt(folder+'train_labels.csv', delimiter=',', skiprows=1,dtype=int,usecols=(0,))\n",
    "#test data\n",
    "testImages = np.load(folder+'test_images.npy').reshape(10000,-1)\n",
    "testLabels = np.loadtxt(folder+'test_labels.csv', delimiter=',', skiprows=1,dtype=int,usecols=(0,))"
   ]
  },
  {
   "cell_type": "code",
   "execution_count": 3,
   "metadata": {},
   "outputs": [
    {
     "data": {
      "text/plain": [
       "array([1, 4, 5, ..., 4, 4, 5])"
      ]
     },
     "execution_count": 3,
     "metadata": {},
     "output_type": "execute_result"
    }
   ],
   "source": [
    "#Fit\n",
    "gaussModel = helper.GaussModel(1e-8)\n",
    "gaussModel.fit(trainImages,trainLabels)\n",
    "gaussModel.predict(testImages)"
   ]
  },
  {
   "cell_type": "code",
   "execution_count": 5,
   "metadata": {},
   "outputs": [
    {
     "name": "stdout",
     "output_type": "stream",
     "text": [
      "Score 0.253\n"
     ]
    }
   ],
   "source": [
    "scores = gaussModel.score(testImages,testLabels)\n",
    "print(\"Score\",scores)"
   ]
  },
  {
   "cell_type": "code",
   "execution_count": null,
   "metadata": {},
   "outputs": [],
   "source": []
  }
 ],
 "metadata": {
  "kernelspec": {
   "display_name": "Python (curso_pae)",
   "language": "python",
   "name": "myenv"
  },
  "language_info": {
   "codemirror_mode": {
    "name": "ipython",
    "version": 3
   },
   "file_extension": ".py",
   "mimetype": "text/x-python",
   "name": "python",
   "nbconvert_exporter": "python",
   "pygments_lexer": "ipython3",
   "version": "3.7.4"
  }
 },
 "nbformat": 4,
 "nbformat_minor": 2
}
