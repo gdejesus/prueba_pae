{
 "cells": [
  {
   "cell_type": "code",
   "execution_count": 1,
   "metadata": {},
   "outputs": [],
   "source": [
    "from matplotlib import pyplot as plt\n",
    "import numpy as np\n",
    "import pandas as pd\n",
    "from sklearn.model_selection import train_test_split"
   ]
  },
  {
   "cell_type": "code",
   "execution_count": 2,
   "metadata": {},
   "outputs": [],
   "source": [
    "import helper as h"
   ]
  },
  {
   "cell_type": "code",
   "execution_count": 3,
   "metadata": {},
   "outputs": [],
   "source": [
    "folder = \"./\"\n",
    "#Train data\n",
    "trainImages = np.load(folder+'train_images.npy')\n",
    "trainLabels = np.loadtxt(folder+'train_labels.csv', delimiter=',', skiprows=1,dtype=int,usecols=(0,))\n",
    "#test data\n",
    "testImages = np.load(folder+'test_images.npy')\n",
    "testLabels = np.loadtxt(folder+'test_labels.csv', delimiter=',', skiprows=1,dtype=int,usecols=(0,))"
   ]
  },
  {
   "cell_type": "code",
   "execution_count": 4,
   "metadata": {},
   "outputs": [
    {
     "name": "stdout",
     "output_type": "stream",
     "text": [
      "784\n"
     ]
    }
   ],
   "source": [
    "total_pixeles_imagen = trainImages[0].shape[0]*trainImages[0].shape[1]\n",
    "print(total_pixeles_imagen)"
   ]
  },
  {
   "cell_type": "code",
   "execution_count": 6,
   "metadata": {},
   "outputs": [
    {
     "name": "stdout",
     "output_type": "stream",
     "text": [
      "Score% 37.019999999999996\n"
     ]
    }
   ],
   "source": [
    "model = h.Model()\n",
    "model.fit(trainImages,trainLabels)\n",
    "scores = model.score(testImages,testLabels)\n",
    "print(\"Score\",scores)"
   ]
  },
  {
   "cell_type": "code",
   "execution_count": null,
   "metadata": {},
   "outputs": [],
   "source": []
  }
 ],
 "metadata": {
  "kernelspec": {
   "display_name": "Python (curso_pae)",
   "language": "python",
   "name": "myenv"
  },
  "language_info": {
   "codemirror_mode": {
    "name": "ipython",
    "version": 3
   },
   "file_extension": ".py",
   "mimetype": "text/x-python",
   "name": "python",
   "nbconvert_exporter": "python",
   "pygments_lexer": "ipython3",
   "version": "3.7.4"
  }
 },
 "nbformat": 4,
 "nbformat_minor": 2
}
