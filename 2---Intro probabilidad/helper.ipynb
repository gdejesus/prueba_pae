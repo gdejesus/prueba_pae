{
 "cells": [
  {
   "cell_type": "code",
   "execution_count": 7,
   "metadata": {},
   "outputs": [],
   "source": [
    "import numpy as np"
   ]
  },
  {
   "cell_type": "code",
   "execution_count": 39,
   "metadata": {},
   "outputs": [],
   "source": [
    "class Model():\n",
    "    def __init__(self,bins=256):\n",
    "        self.bins=bins\n",
    "        \n",
    "    def getHist(self,images,labels,cat,bins=256):\n",
    "        priori = (labels == cat).sum()/len(labels)\n",
    "        hist = np.histogram(images[labels==cat].flatten(),bins=bins,range=[0,256],density=True)[0]\n",
    "        return np.log(hist),np.log(priori)\n",
    "\n",
    "    def fit(self,images,labels,bins=256):\n",
    "        categories = list(set(labels))\n",
    "        categories.sort()\n",
    "        models = [getHist(images,labels,i,bins=256) for i in categories] \n",
    "        self.models = models\n",
    "        self.categories = categories  \n",
    "\n",
    "    def predict(testImages):\n",
    "        hists = [np.histogram(img.flatten(),bins=256,range=[0,256],density=False)[0] for img in testImages]\n",
    "        prediction = [[np.matmul(m[0],hist)+m[1] for m in self.models] for hist in hists]\n",
    "        return prediction\n",
    "\n",
    "    def score(images,categories):\n",
    "        predictions = self.predict(images)\n",
    "        okResults = np.equals(predictions,categories)\n",
    "        return np.count_nonzero(okResults)/len(categories)\n",
    "\n"
   ]
  },
  {
   "cell_type": "code",
   "execution_count": 26,
   "metadata": {},
   "outputs": [],
   "source": [
    "clf = model(256)"
   ]
  },
  {
   "cell_type": "code",
   "execution_count": 27,
   "metadata": {},
   "outputs": [
    {
     "data": {
      "text/plain": [
       "256"
      ]
     },
     "execution_count": 27,
     "metadata": {},
     "output_type": "execute_result"
    }
   ],
   "source": [
    "clf.bins"
   ]
  },
  {
   "cell_type": "code",
   "execution_count": 28,
   "metadata": {},
   "outputs": [
    {
     "data": {
      "text/plain": [
       "'A'"
      ]
     },
     "execution_count": 28,
     "metadata": {},
     "output_type": "execute_result"
    }
   ],
   "source": [
    "clf.modelType"
   ]
  },
  {
   "cell_type": "code",
   "execution_count": 29,
   "metadata": {},
   "outputs": [],
   "source": [
    "X = np.random.random([60000,28,28])\n",
    "y = np.random.randint(0,10,60000)"
   ]
  },
  {
   "cell_type": "code",
   "execution_count": 30,
   "metadata": {},
   "outputs": [],
   "source": [
    "clf.fit(X,y)"
   ]
  },
  {
   "cell_type": "code",
   "execution_count": 31,
   "metadata": {},
   "outputs": [
    {
     "data": {
      "text/plain": [
       "[0.49993487632745226,\n",
       " 0.4998297967745533,\n",
       " 0.5000604658275938,\n",
       " 0.4998097615979197,\n",
       " 0.5000134595417733,\n",
       " 0.5001671684769101,\n",
       " 0.5001094230559912,\n",
       " 0.5000253386267309,\n",
       " 0.49996183514747167,\n",
       " 0.5000830101069463]"
      ]
     },
     "execution_count": 31,
     "metadata": {},
     "output_type": "execute_result"
    }
   ],
   "source": [
    "clf.mean_"
   ]
  },
  {
   "cell_type": "code",
   "execution_count": 36,
   "metadata": {},
   "outputs": [],
   "source": [
    "xTest = np.random.random([1000,28,28])\n",
    "yTest = np.random.random([0,10,1000])"
   ]
  },
  {
   "cell_type": "code",
   "execution_count": 37,
   "metadata": {},
   "outputs": [
    {
     "ename": "TypeError",
     "evalue": "score() takes 2 positional arguments but 3 were given",
     "output_type": "error",
     "traceback": [
      "\u001b[0;31m---------------------------------------------------------------------------\u001b[0m",
      "\u001b[0;31mTypeError\u001b[0m                                 Traceback (most recent call last)",
      "\u001b[0;32m<ipython-input-37-7546f1e35fa4>\u001b[0m in \u001b[0;36m<module>\u001b[0;34m\u001b[0m\n\u001b[0;32m----> 1\u001b[0;31m \u001b[0mclf\u001b[0m\u001b[0;34m.\u001b[0m\u001b[0mscore\u001b[0m\u001b[0;34m(\u001b[0m\u001b[0mxTest\u001b[0m\u001b[0;34m,\u001b[0m\u001b[0myTest\u001b[0m\u001b[0;34m)\u001b[0m\u001b[0;34m\u001b[0m\u001b[0;34m\u001b[0m\u001b[0m\n\u001b[0m",
      "\u001b[0;31mTypeError\u001b[0m: score() takes 2 positional arguments but 3 were given"
     ]
    }
   ],
   "source": [
    "clf.score(xTest,yTest)"
   ]
  },
  {
   "cell_type": "code",
   "execution_count": null,
   "metadata": {},
   "outputs": [],
   "source": []
  }
 ],
 "metadata": {
  "kernelspec": {
   "display_name": "Python (curso_pae)",
   "language": "python",
   "name": "myenv"
  },
  "language_info": {
   "codemirror_mode": {
    "name": "ipython",
    "version": 3
   },
   "file_extension": ".py",
   "mimetype": "text/x-python",
   "name": "python",
   "nbconvert_exporter": "python",
   "pygments_lexer": "ipython3",
   "version": "3.7.4"
  }
 },
 "nbformat": 4,
 "nbformat_minor": 2
}
