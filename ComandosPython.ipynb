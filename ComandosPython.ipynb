{
 "cells": [
  {
   "cell_type": "code",
   "execution_count": 20,
   "metadata": {},
   "outputs": [],
   "source": [
    "def add_numbers(x,y, z=3,d=5):\n",
    "    return x+y+z+d"
   ]
  },
  {
   "cell_type": "code",
   "execution_count": 21,
   "metadata": {},
   "outputs": [
    {
     "name": "stdout",
     "output_type": "stream",
     "text": [
      "16\n"
     ]
    }
   ],
   "source": [
    "print(add_numbers(6,2))\n",
    "##print(add_numbers(\"hola\",\" mundo\"))"
   ]
  },
  {
   "cell_type": "code",
   "execution_count": 22,
   "metadata": {},
   "outputs": [],
   "source": [
    "import numpy as np\n",
    "def producto_punto(a,b):\n",
    "    return np.dot(a,b)"
   ]
  },
  {
   "cell_type": "code",
   "execution_count": 9,
   "metadata": {},
   "outputs": [
    {
     "data": {
      "text/plain": [
       "20"
      ]
     },
     "execution_count": 9,
     "metadata": {},
     "output_type": "execute_result"
    }
   ],
   "source": [
    "producto_punto([1,2,3],[2,3,4])"
   ]
  },
  {
   "cell_type": "code",
   "execution_count": 7,
   "metadata": {},
   "outputs": [
    {
     "name": "stdout",
     "output_type": "stream",
     "text": [
      "20\n",
      "21\n",
      "22\n",
      "23\n",
      "24\n",
      "25\n",
      "26\n",
      "27\n",
      "28\n",
      "29\n",
      "Finalizó!\n"
     ]
    }
   ],
   "source": [
    "for idx in range(20,30):\n",
    "    print(idx)\n",
    "print(\"Finalizó!\")"
   ]
  },
  {
   "cell_type": "code",
   "execution_count": 11,
   "metadata": {},
   "outputs": [
    {
     "data": {
      "text/plain": [
       "list"
      ]
     },
     "execution_count": 11,
     "metadata": {},
     "output_type": "execute_result"
    }
   ],
   "source": [
    "type([1, 2, 3, 4, 5])"
   ]
  },
  {
   "cell_type": "code",
   "execution_count": 23,
   "metadata": {},
   "outputs": [],
   "source": [
    "c= add_numbers"
   ]
  },
  {
   "cell_type": "code",
   "execution_count": 24,
   "metadata": {},
   "outputs": [
    {
     "data": {
      "text/plain": [
       "function"
      ]
     },
     "execution_count": 24,
     "metadata": {},
     "output_type": "execute_result"
    }
   ],
   "source": [
    "type(c)"
   ]
  },
  {
   "cell_type": "code",
   "execution_count": 25,
   "metadata": {},
   "outputs": [
    {
     "data": {
      "text/plain": [
       "11"
      ]
     },
     "execution_count": 25,
     "metadata": {},
     "output_type": "execute_result"
    }
   ],
   "source": [
    "c(1,2,3)"
   ]
  },
  {
   "cell_type": "code",
   "execution_count": 26,
   "metadata": {},
   "outputs": [],
   "source": [
    "e=(1,2,3,4,5) #esto es una tupla"
   ]
  },
  {
   "cell_type": "code",
   "execution_count": 27,
   "metadata": {},
   "outputs": [
    {
     "data": {
      "text/plain": [
       "(1, 2, 3, 4, 5)"
      ]
     },
     "execution_count": 27,
     "metadata": {},
     "output_type": "execute_result"
    }
   ],
   "source": [
    "e"
   ]
  },
  {
   "cell_type": "code",
   "execution_count": 28,
   "metadata": {},
   "outputs": [
    {
     "data": {
      "text/plain": [
       "tuple"
      ]
     },
     "execution_count": 28,
     "metadata": {},
     "output_type": "execute_result"
    }
   ],
   "source": [
    "type(e)"
   ]
  },
  {
   "cell_type": "code",
   "execution_count": 29,
   "metadata": {},
   "outputs": [],
   "source": [
    "f=(1,2,4,(0,2),\"hola\")"
   ]
  },
  {
   "cell_type": "code",
   "execution_count": 34,
   "metadata": {},
   "outputs": [
    {
     "name": "stdout",
     "output_type": "stream",
     "text": [
      "2\n",
      "hola\n"
     ]
    }
   ],
   "source": [
    "print(f[3][1])\n",
    "print(f[4])"
   ]
  },
  {
   "cell_type": "code",
   "execution_count": 35,
   "metadata": {},
   "outputs": [],
   "source": [
    "list = [1, 2, 3, 4, 5]"
   ]
  },
  {
   "cell_type": "code",
   "execution_count": 36,
   "metadata": {},
   "outputs": [],
   "source": [
    "list.append([6,8,9])"
   ]
  },
  {
   "cell_type": "code",
   "execution_count": 37,
   "metadata": {},
   "outputs": [
    {
     "data": {
      "text/plain": [
       "[1, 2, 3, 4, 5, [6, 8, 9]]"
      ]
     },
     "execution_count": 37,
     "metadata": {},
     "output_type": "execute_result"
    }
   ],
   "source": [
    "list"
   ]
  },
  {
   "cell_type": "code",
   "execution_count": 38,
   "metadata": {},
   "outputs": [],
   "source": [
    "d= {\"Guille\":\"De Jesus\", \"Juan\":\"Perez\"}"
   ]
  },
  {
   "cell_type": "code",
   "execution_count": 39,
   "metadata": {},
   "outputs": [
    {
     "data": {
      "text/plain": [
       "'De Jesus'"
      ]
     },
     "execution_count": 39,
     "metadata": {},
     "output_type": "execute_result"
    }
   ],
   "source": [
    "d[\"Guille\"]"
   ]
  },
  {
   "cell_type": "code",
   "execution_count": 40,
   "metadata": {},
   "outputs": [
    {
     "data": {
      "text/plain": [
       "dict_items([('Guille', 'De Jesus'), ('Juan', 'Perez')])"
      ]
     },
     "execution_count": 40,
     "metadata": {},
     "output_type": "execute_result"
    }
   ],
   "source": [
    "d.items()"
   ]
  },
  {
   "cell_type": "code",
   "execution_count": 41,
   "metadata": {},
   "outputs": [
    {
     "name": "stdout",
     "output_type": "stream",
     "text": [
      "De Jesus\n",
      "Perez\n"
     ]
    }
   ],
   "source": [
    "for key in d:\n",
    "    print(d[key])"
   ]
  },
  {
   "cell_type": "code",
   "execution_count": 42,
   "metadata": {},
   "outputs": [
    {
     "name": "stdout",
     "output_type": "stream",
     "text": [
      "Guille De Jesus\n",
      "Juan Perez\n"
     ]
    }
   ],
   "source": [
    "for key, value in d.items():\n",
    "    print(key,value)"
   ]
  },
  {
   "cell_type": "code",
   "execution_count": 43,
   "metadata": {},
   "outputs": [],
   "source": [
    "conjunto={1,2,3,4,5,\"casa\", \"perro\"}"
   ]
  },
  {
   "cell_type": "code",
   "execution_count": 45,
   "metadata": {},
   "outputs": [
    {
     "data": {
      "text/plain": [
       "{1, 2, 3, 4, 5, 'casa', 'perro'}"
      ]
     },
     "execution_count": 45,
     "metadata": {},
     "output_type": "execute_result"
    }
   ],
   "source": [
    "conjunto"
   ]
  },
  {
   "cell_type": "code",
   "execution_count": 48,
   "metadata": {},
   "outputs": [
    {
     "data": {
      "text/plain": [
       "{1, 2, 3, 4, 5, 'casa', 'perro'}"
      ]
     },
     "execution_count": 48,
     "metadata": {},
     "output_type": "execute_result"
    }
   ],
   "source": [
    "conjunto"
   ]
  },
  {
   "cell_type": "code",
   "execution_count": 51,
   "metadata": {},
   "outputs": [
    {
     "name": "stdout",
     "output_type": "stream",
     "text": [
      "CPU times: user 3 µs, sys: 0 ns, total: 3 µs\n",
      "Wall time: 7.15 µs\n"
     ]
    }
   ],
   "source": [
    "%time\n",
    "pares = [idx*2 for idx in range(0,100)]"
   ]
  },
  {
   "cell_type": "code",
   "execution_count": 50,
   "metadata": {},
   "outputs": [
    {
     "data": {
      "text/plain": [
       "[0,\n",
       " 2,\n",
       " 4,\n",
       " 6,\n",
       " 8,\n",
       " 10,\n",
       " 12,\n",
       " 14,\n",
       " 16,\n",
       " 18,\n",
       " 20,\n",
       " 22,\n",
       " 24,\n",
       " 26,\n",
       " 28,\n",
       " 30,\n",
       " 32,\n",
       " 34,\n",
       " 36,\n",
       " 38,\n",
       " 40,\n",
       " 42,\n",
       " 44,\n",
       " 46,\n",
       " 48,\n",
       " 50,\n",
       " 52,\n",
       " 54,\n",
       " 56,\n",
       " 58,\n",
       " 60,\n",
       " 62,\n",
       " 64,\n",
       " 66,\n",
       " 68,\n",
       " 70,\n",
       " 72,\n",
       " 74,\n",
       " 76,\n",
       " 78,\n",
       " 80,\n",
       " 82,\n",
       " 84,\n",
       " 86,\n",
       " 88,\n",
       " 90,\n",
       " 92,\n",
       " 94,\n",
       " 96,\n",
       " 98,\n",
       " 100,\n",
       " 102,\n",
       " 104,\n",
       " 106,\n",
       " 108,\n",
       " 110,\n",
       " 112,\n",
       " 114,\n",
       " 116,\n",
       " 118,\n",
       " 120,\n",
       " 122,\n",
       " 124,\n",
       " 126,\n",
       " 128,\n",
       " 130,\n",
       " 132,\n",
       " 134,\n",
       " 136,\n",
       " 138,\n",
       " 140,\n",
       " 142,\n",
       " 144,\n",
       " 146,\n",
       " 148,\n",
       " 150,\n",
       " 152,\n",
       " 154,\n",
       " 156,\n",
       " 158,\n",
       " 160,\n",
       " 162,\n",
       " 164,\n",
       " 166,\n",
       " 168,\n",
       " 170,\n",
       " 172,\n",
       " 174,\n",
       " 176,\n",
       " 178,\n",
       " 180,\n",
       " 182,\n",
       " 184,\n",
       " 186,\n",
       " 188,\n",
       " 190,\n",
       " 192,\n",
       " 194,\n",
       " 196,\n",
       " 198]"
      ]
     },
     "execution_count": 50,
     "metadata": {},
     "output_type": "execute_result"
    }
   ],
   "source": [
    "pares"
   ]
  },
  {
   "cell_type": "code",
   "execution_count": 54,
   "metadata": {},
   "outputs": [
    {
     "name": "stdout",
     "output_type": "stream",
     "text": [
      "CPU times: user 2 µs, sys: 0 ns, total: 2 µs\n",
      "Wall time: 6.91 µs\n"
     ]
    }
   ],
   "source": [
    "%time\n",
    "d={idx:idx*2 for idx in range(0,200)}"
   ]
  },
  {
   "cell_type": "code",
   "execution_count": 55,
   "metadata": {},
   "outputs": [
    {
     "data": {
      "text/plain": [
       "{0: 0,\n",
       " 1: 2,\n",
       " 2: 4,\n",
       " 3: 6,\n",
       " 4: 8,\n",
       " 5: 10,\n",
       " 6: 12,\n",
       " 7: 14,\n",
       " 8: 16,\n",
       " 9: 18,\n",
       " 10: 20,\n",
       " 11: 22,\n",
       " 12: 24,\n",
       " 13: 26,\n",
       " 14: 28,\n",
       " 15: 30,\n",
       " 16: 32,\n",
       " 17: 34,\n",
       " 18: 36,\n",
       " 19: 38,\n",
       " 20: 40,\n",
       " 21: 42,\n",
       " 22: 44,\n",
       " 23: 46,\n",
       " 24: 48,\n",
       " 25: 50,\n",
       " 26: 52,\n",
       " 27: 54,\n",
       " 28: 56,\n",
       " 29: 58,\n",
       " 30: 60,\n",
       " 31: 62,\n",
       " 32: 64,\n",
       " 33: 66,\n",
       " 34: 68,\n",
       " 35: 70,\n",
       " 36: 72,\n",
       " 37: 74,\n",
       " 38: 76,\n",
       " 39: 78,\n",
       " 40: 80,\n",
       " 41: 82,\n",
       " 42: 84,\n",
       " 43: 86,\n",
       " 44: 88,\n",
       " 45: 90,\n",
       " 46: 92,\n",
       " 47: 94,\n",
       " 48: 96,\n",
       " 49: 98,\n",
       " 50: 100,\n",
       " 51: 102,\n",
       " 52: 104,\n",
       " 53: 106,\n",
       " 54: 108,\n",
       " 55: 110,\n",
       " 56: 112,\n",
       " 57: 114,\n",
       " 58: 116,\n",
       " 59: 118,\n",
       " 60: 120,\n",
       " 61: 122,\n",
       " 62: 124,\n",
       " 63: 126,\n",
       " 64: 128,\n",
       " 65: 130,\n",
       " 66: 132,\n",
       " 67: 134,\n",
       " 68: 136,\n",
       " 69: 138,\n",
       " 70: 140,\n",
       " 71: 142,\n",
       " 72: 144,\n",
       " 73: 146,\n",
       " 74: 148,\n",
       " 75: 150,\n",
       " 76: 152,\n",
       " 77: 154,\n",
       " 78: 156,\n",
       " 79: 158,\n",
       " 80: 160,\n",
       " 81: 162,\n",
       " 82: 164,\n",
       " 83: 166,\n",
       " 84: 168,\n",
       " 85: 170,\n",
       " 86: 172,\n",
       " 87: 174,\n",
       " 88: 176,\n",
       " 89: 178,\n",
       " 90: 180,\n",
       " 91: 182,\n",
       " 92: 184,\n",
       " 93: 186,\n",
       " 94: 188,\n",
       " 95: 190,\n",
       " 96: 192,\n",
       " 97: 194,\n",
       " 98: 196,\n",
       " 99: 198,\n",
       " 100: 200,\n",
       " 101: 202,\n",
       " 102: 204,\n",
       " 103: 206,\n",
       " 104: 208,\n",
       " 105: 210,\n",
       " 106: 212,\n",
       " 107: 214,\n",
       " 108: 216,\n",
       " 109: 218,\n",
       " 110: 220,\n",
       " 111: 222,\n",
       " 112: 224,\n",
       " 113: 226,\n",
       " 114: 228,\n",
       " 115: 230,\n",
       " 116: 232,\n",
       " 117: 234,\n",
       " 118: 236,\n",
       " 119: 238,\n",
       " 120: 240,\n",
       " 121: 242,\n",
       " 122: 244,\n",
       " 123: 246,\n",
       " 124: 248,\n",
       " 125: 250,\n",
       " 126: 252,\n",
       " 127: 254,\n",
       " 128: 256,\n",
       " 129: 258,\n",
       " 130: 260,\n",
       " 131: 262,\n",
       " 132: 264,\n",
       " 133: 266,\n",
       " 134: 268,\n",
       " 135: 270,\n",
       " 136: 272,\n",
       " 137: 274,\n",
       " 138: 276,\n",
       " 139: 278,\n",
       " 140: 280,\n",
       " 141: 282,\n",
       " 142: 284,\n",
       " 143: 286,\n",
       " 144: 288,\n",
       " 145: 290,\n",
       " 146: 292,\n",
       " 147: 294,\n",
       " 148: 296,\n",
       " 149: 298,\n",
       " 150: 300,\n",
       " 151: 302,\n",
       " 152: 304,\n",
       " 153: 306,\n",
       " 154: 308,\n",
       " 155: 310,\n",
       " 156: 312,\n",
       " 157: 314,\n",
       " 158: 316,\n",
       " 159: 318,\n",
       " 160: 320,\n",
       " 161: 322,\n",
       " 162: 324,\n",
       " 163: 326,\n",
       " 164: 328,\n",
       " 165: 330,\n",
       " 166: 332,\n",
       " 167: 334,\n",
       " 168: 336,\n",
       " 169: 338,\n",
       " 170: 340,\n",
       " 171: 342,\n",
       " 172: 344,\n",
       " 173: 346,\n",
       " 174: 348,\n",
       " 175: 350,\n",
       " 176: 352,\n",
       " 177: 354,\n",
       " 178: 356,\n",
       " 179: 358,\n",
       " 180: 360,\n",
       " 181: 362,\n",
       " 182: 364,\n",
       " 183: 366,\n",
       " 184: 368,\n",
       " 185: 370,\n",
       " 186: 372,\n",
       " 187: 374,\n",
       " 188: 376,\n",
       " 189: 378,\n",
       " 190: 380,\n",
       " 191: 382,\n",
       " 192: 384,\n",
       " 193: 386,\n",
       " 194: 388,\n",
       " 195: 390,\n",
       " 196: 392,\n",
       " 197: 394,\n",
       " 198: 396,\n",
       " 199: 398}"
      ]
     },
     "execution_count": 55,
     "metadata": {},
     "output_type": "execute_result"
    }
   ],
   "source": [
    "d"
   ]
  },
  {
   "cell_type": "code",
   "execution_count": 56,
   "metadata": {},
   "outputs": [],
   "source": [
    "string1 = \"panamerican\""
   ]
  },
  {
   "cell_type": "code",
   "execution_count": 58,
   "metadata": {},
   "outputs": [
    {
     "data": {
      "text/plain": [
       "'n'"
      ]
     },
     "execution_count": 58,
     "metadata": {},
     "output_type": "execute_result"
    }
   ],
   "source": [
    "string1[0]\n",
    "string1[-1]"
   ]
  },
  {
   "cell_type": "code",
   "execution_count": 59,
   "metadata": {},
   "outputs": [
    {
     "data": {
      "text/plain": [
       "'erican'"
      ]
     },
     "execution_count": 59,
     "metadata": {},
     "output_type": "execute_result"
    }
   ],
   "source": [
    "string1[5:]"
   ]
  },
  {
   "cell_type": "code",
   "execution_count": 60,
   "metadata": {},
   "outputs": [
    {
     "data": {
      "text/plain": [
       "'rican'"
      ]
     },
     "execution_count": 60,
     "metadata": {},
     "output_type": "execute_result"
    }
   ],
   "source": [
    "string1[-5:]"
   ]
  },
  {
   "cell_type": "code",
   "execution_count": 68,
   "metadata": {},
   "outputs": [],
   "source": [
    "string = string1[:3]+\" \"+string1[3:]"
   ]
  },
  {
   "cell_type": "code",
   "execution_count": 72,
   "metadata": {},
   "outputs": [
    {
     "name": "stdout",
     "output_type": "stream",
     "text": [
      "['pan', 'american']\n"
     ]
    }
   ],
   "source": [
    "string[::-2]\n",
    "spaceList = string.split(\" \")\n",
    "print(spaceList)"
   ]
  },
  {
   "cell_type": "raw",
   "metadata": {},
   "source": []
  },
  {
   "cell_type": "code",
   "execution_count": 73,
   "metadata": {},
   "outputs": [
    {
     "data": {
      "text/plain": [
       "'Mi nombre es Guillermo'"
      ]
     },
     "execution_count": 73,
     "metadata": {},
     "output_type": "execute_result"
    }
   ],
   "source": [
    "\"Mi nombre es {}\".format(\"Guillermo\")"
   ]
  },
  {
   "cell_type": "code",
   "execution_count": 98,
   "metadata": {},
   "outputs": [],
   "source": [
    "import pandas as pd"
   ]
  },
  {
   "cell_type": "markdown",
   "metadata": {},
   "source": [
    "### Ahora leemos un csv"
   ]
  },
  {
   "cell_type": "code",
   "execution_count": 115,
   "metadata": {},
   "outputs": [],
   "source": [
    "import pandas as pd\n",
    "df = pd.read_csv(\"hurricanes.csv\",names= [\"Month\",\"Average\"] + list(range(2005,2016)))\n",
    "df.drop(index=0, inplace=True)"
   ]
  },
  {
   "cell_type": "code",
   "execution_count": 117,
   "metadata": {},
   "outputs": [
    {
     "data": {
      "text/html": [
       "<div>\n",
       "<style scoped>\n",
       "    .dataframe tbody tr th:only-of-type {\n",
       "        vertical-align: middle;\n",
       "    }\n",
       "\n",
       "    .dataframe tbody tr th {\n",
       "        vertical-align: top;\n",
       "    }\n",
       "\n",
       "    .dataframe thead th {\n",
       "        text-align: right;\n",
       "    }\n",
       "</style>\n",
       "<table border=\"1\" class=\"dataframe\">\n",
       "  <thead>\n",
       "    <tr style=\"text-align: right;\">\n",
       "      <th></th>\n",
       "      <th>Month</th>\n",
       "      <th>Average</th>\n",
       "      <th>2005</th>\n",
       "      <th>2006</th>\n",
       "      <th>2007</th>\n",
       "      <th>2008</th>\n",
       "      <th>2009</th>\n",
       "      <th>2010</th>\n",
       "      <th>2011</th>\n",
       "      <th>2012</th>\n",
       "      <th>2013</th>\n",
       "      <th>2014</th>\n",
       "      <th>2015</th>\n",
       "    </tr>\n",
       "  </thead>\n",
       "  <tbody>\n",
       "    <tr>\n",
       "      <td>1</td>\n",
       "      <td>May</td>\n",
       "      <td>0.1</td>\n",
       "      <td>0</td>\n",
       "      <td>0</td>\n",
       "      <td>1</td>\n",
       "      <td>1</td>\n",
       "      <td>0</td>\n",
       "      <td>0</td>\n",
       "      <td>0</td>\n",
       "      <td>2</td>\n",
       "      <td>0</td>\n",
       "      <td>0</td>\n",
       "      <td>0</td>\n",
       "    </tr>\n",
       "    <tr>\n",
       "      <td>2</td>\n",
       "      <td>Jun</td>\n",
       "      <td>0.5</td>\n",
       "      <td>2</td>\n",
       "      <td>1</td>\n",
       "      <td>1</td>\n",
       "      <td>0</td>\n",
       "      <td>0</td>\n",
       "      <td>1</td>\n",
       "      <td>1</td>\n",
       "      <td>2</td>\n",
       "      <td>2</td>\n",
       "      <td>0</td>\n",
       "      <td>1</td>\n",
       "    </tr>\n",
       "    <tr>\n",
       "      <td>3</td>\n",
       "      <td>Jul</td>\n",
       "      <td>0.7</td>\n",
       "      <td>5</td>\n",
       "      <td>1</td>\n",
       "      <td>1</td>\n",
       "      <td>2</td>\n",
       "      <td>0</td>\n",
       "      <td>1</td>\n",
       "      <td>3</td>\n",
       "      <td>0</td>\n",
       "      <td>2</td>\n",
       "      <td>2</td>\n",
       "      <td>1</td>\n",
       "    </tr>\n",
       "    <tr>\n",
       "      <td>4</td>\n",
       "      <td>Aug</td>\n",
       "      <td>2.3</td>\n",
       "      <td>6</td>\n",
       "      <td>3</td>\n",
       "      <td>2</td>\n",
       "      <td>4</td>\n",
       "      <td>4</td>\n",
       "      <td>4</td>\n",
       "      <td>7</td>\n",
       "      <td>8</td>\n",
       "      <td>2</td>\n",
       "      <td>2</td>\n",
       "      <td>3</td>\n",
       "    </tr>\n",
       "    <tr>\n",
       "      <td>5</td>\n",
       "      <td>Sep</td>\n",
       "      <td>3.5</td>\n",
       "      <td>6</td>\n",
       "      <td>4</td>\n",
       "      <td>7</td>\n",
       "      <td>4</td>\n",
       "      <td>2</td>\n",
       "      <td>8</td>\n",
       "      <td>5</td>\n",
       "      <td>2</td>\n",
       "      <td>5</td>\n",
       "      <td>2</td>\n",
       "      <td>5</td>\n",
       "    </tr>\n",
       "    <tr>\n",
       "      <td>6</td>\n",
       "      <td>Oct</td>\n",
       "      <td>2.0</td>\n",
       "      <td>8</td>\n",
       "      <td>0</td>\n",
       "      <td>1</td>\n",
       "      <td>3</td>\n",
       "      <td>2</td>\n",
       "      <td>5</td>\n",
       "      <td>1</td>\n",
       "      <td>5</td>\n",
       "      <td>2</td>\n",
       "      <td>3</td>\n",
       "      <td>0</td>\n",
       "    </tr>\n",
       "    <tr>\n",
       "      <td>7</td>\n",
       "      <td>Nov</td>\n",
       "      <td>0.5</td>\n",
       "      <td>3</td>\n",
       "      <td>0</td>\n",
       "      <td>0</td>\n",
       "      <td>1</td>\n",
       "      <td>1</td>\n",
       "      <td>0</td>\n",
       "      <td>1</td>\n",
       "      <td>0</td>\n",
       "      <td>1</td>\n",
       "      <td>0</td>\n",
       "      <td>1</td>\n",
       "    </tr>\n",
       "    <tr>\n",
       "      <td>8</td>\n",
       "      <td>Dec</td>\n",
       "      <td>0.0</td>\n",
       "      <td>1</td>\n",
       "      <td>0</td>\n",
       "      <td>1</td>\n",
       "      <td>0</td>\n",
       "      <td>0</td>\n",
       "      <td>0</td>\n",
       "      <td>0</td>\n",
       "      <td>0</td>\n",
       "      <td>0</td>\n",
       "      <td>0</td>\n",
       "      <td>1</td>\n",
       "    </tr>\n",
       "  </tbody>\n",
       "</table>\n",
       "</div>"
      ],
      "text/plain": [
       "  Month Average 2005 2006 2007 2008 2009 2010 2011 2012 2013 2014   2015\n",
       "1   May     0.1    0    0    1    1    0    0    0    2    0    0    0  \n",
       "2   Jun     0.5    2    1    1    0    0    1    1    2    2    0      1\n",
       "3   Jul     0.7    5    1    1    2    0    1    3    0    2    2      1\n",
       "4   Aug     2.3    6    3    2    4    4    4    7    8    2    2      3\n",
       "5   Sep     3.5    6    4    7    4    2    8    5    2    5    2      5\n",
       "6   Oct     2.0    8    0    1    3    2    5    1    5    2    3      0\n",
       "7   Nov     0.5    3    0    0    1    1    0    1    0    1    0      1\n",
       "8   Dec     0.0    1    0    1    0    0    0    0    0    0    0      1"
      ]
     },
     "execution_count": 117,
     "metadata": {},
     "output_type": "execute_result"
    }
   ],
   "source": [
    "df"
   ]
  },
  {
   "cell_type": "code",
   "execution_count": 124,
   "metadata": {},
   "outputs": [
    {
     "data": {
      "text/plain": [
       "pandas.core.series.Series"
      ]
     },
     "execution_count": 124,
     "metadata": {},
     "output_type": "execute_result"
    }
   ],
   "source": [
    "serie=df[2006].astype(int)\n",
    "type(serie)"
   ]
  },
  {
   "cell_type": "code",
   "execution_count": 127,
   "metadata": {},
   "outputs": [
    {
     "name": "stdout",
     "output_type": "stream",
     "text": [
      "0\n",
      "4\n"
     ]
    }
   ],
   "source": [
    "print(serie.min())\n",
    "print(serie.max())"
   ]
  },
  {
   "cell_type": "raw",
   "metadata": {},
   "source": [
    "import matplot as mp"
   ]
  },
  {
   "cell_type": "code",
   "execution_count": 129,
   "metadata": {},
   "outputs": [],
   "source": [
    "import matplotlib as mp"
   ]
  },
  {
   "cell_type": "code",
   "execution_count": 132,
   "metadata": {},
   "outputs": [
    {
     "data": {
      "text/plain": [
       "<matplotlib.axes._subplots.AxesSubplot at 0x11fdba510>"
      ]
     },
     "execution_count": 132,
     "metadata": {},
     "output_type": "execute_result"
    },
    {
     "data": {
      "image/png": "[encoded data removed]",
      "text/plain": [
       "<Figure size 432x288 with 1 Axes>"
      ]
     },
     "metadata": {
      "needs_background": "light"
     },
     "output_type": "display_data"
    }
   ],
   "source": [
    "serie.plot()"
   ]
  },
  {
   "cell_type": "code",
   "execution_count": 133,
   "metadata": {},
   "outputs": [],
   "source": [
    "df2 = pd.read_csv(\"produccin-de-pozos-de-gas-y-petrleo-no-convencional.csv\")"
   ]
  },
  {
   "cell_type": "code",
   "execution_count": 134,
   "metadata": {},
   "outputs": [
    {
     "data": {
      "text/html": [
       "<div>\n",
       "<style scoped>\n",
       "    .dataframe tbody tr th:only-of-type {\n",
       "        vertical-align: middle;\n",
       "    }\n",
       "\n",
       "    .dataframe tbody tr th {\n",
       "        vertical-align: top;\n",
       "    }\n",
       "\n",
       "    .dataframe thead th {\n",
       "        text-align: right;\n",
       "    }\n",
       "</style>\n",
       "<table border=\"1\" class=\"dataframe\">\n",
       "  <thead>\n",
       "    <tr style=\"text-align: right;\">\n",
       "      <th></th>\n",
       "      <th>idempresa</th>\n",
       "      <th>anio</th>\n",
       "      <th>mes</th>\n",
       "      <th>idpozo</th>\n",
       "      <th>prod_pet</th>\n",
       "      <th>prod_gas</th>\n",
       "      <th>prod_agua</th>\n",
       "      <th>iny_agua</th>\n",
       "      <th>iny_gas</th>\n",
       "      <th>iny_co2</th>\n",
       "      <th>...</th>\n",
       "      <th>cuenca</th>\n",
       "      <th>provincia</th>\n",
       "      <th>coordenadax</th>\n",
       "      <th>coordenaday</th>\n",
       "      <th>tipo_de_recurso</th>\n",
       "      <th>proyecto</th>\n",
       "      <th>clasificacion</th>\n",
       "      <th>subclasificacion</th>\n",
       "      <th>sub_tipo_recurso</th>\n",
       "      <th>fecha_data</th>\n",
       "    </tr>\n",
       "  </thead>\n",
       "  <tbody>\n",
       "    <tr>\n",
       "      <td>0</td>\n",
       "      <td>YSUR</td>\n",
       "      <td>2015</td>\n",
       "      <td>1</td>\n",
       "      <td>129863</td>\n",
       "      <td>0.0</td>\n",
       "      <td>212.94</td>\n",
       "      <td>166.31</td>\n",
       "      <td>0.0</td>\n",
       "      <td>0.0</td>\n",
       "      <td>0.0</td>\n",
       "      <td>...</td>\n",
       "      <td>NEUQUINA</td>\n",
       "      <td>Neuquén</td>\n",
       "      <td>-69.799334</td>\n",
       "      <td>-38.966814</td>\n",
       "      <td>NO CONVENCIONAL</td>\n",
       "      <td>GAS PLUS</td>\n",
       "      <td>EXPLOTACION</td>\n",
       "      <td>DESARROLLO</td>\n",
       "      <td>TIGHT</td>\n",
       "      <td>2015-01-31</td>\n",
       "    </tr>\n",
       "    <tr>\n",
       "      <td>1</td>\n",
       "      <td>YSUR</td>\n",
       "      <td>2015</td>\n",
       "      <td>1</td>\n",
       "      <td>145329</td>\n",
       "      <td>0.0</td>\n",
       "      <td>0.00</td>\n",
       "      <td>0.00</td>\n",
       "      <td>0.0</td>\n",
       "      <td>0.0</td>\n",
       "      <td>0.0</td>\n",
       "      <td>...</td>\n",
       "      <td>NEUQUINA</td>\n",
       "      <td>Neuquén</td>\n",
       "      <td>-69.903384</td>\n",
       "      <td>-38.067634</td>\n",
       "      <td>NO CONVENCIONAL</td>\n",
       "      <td>GAS PLUS</td>\n",
       "      <td>EXPLORACION</td>\n",
       "      <td>EXPLORATORIO PROFUNDO</td>\n",
       "      <td>SHALE</td>\n",
       "      <td>2015-01-31</td>\n",
       "    </tr>\n",
       "    <tr>\n",
       "      <td>2</td>\n",
       "      <td>YSUR</td>\n",
       "      <td>2015</td>\n",
       "      <td>1</td>\n",
       "      <td>130515</td>\n",
       "      <td>0.0</td>\n",
       "      <td>33.24</td>\n",
       "      <td>13.37</td>\n",
       "      <td>0.0</td>\n",
       "      <td>0.0</td>\n",
       "      <td>0.0</td>\n",
       "      <td>...</td>\n",
       "      <td>NEUQUINA</td>\n",
       "      <td>Neuquén</td>\n",
       "      <td>-69.785229</td>\n",
       "      <td>-38.949104</td>\n",
       "      <td>NO CONVENCIONAL</td>\n",
       "      <td>GAS PLUS</td>\n",
       "      <td>EXPLOTACION</td>\n",
       "      <td>DESARROLLO</td>\n",
       "      <td>TIGHT</td>\n",
       "      <td>2015-01-31</td>\n",
       "    </tr>\n",
       "    <tr>\n",
       "      <td>3</td>\n",
       "      <td>YSUR</td>\n",
       "      <td>2015</td>\n",
       "      <td>1</td>\n",
       "      <td>134486</td>\n",
       "      <td>0.0</td>\n",
       "      <td>495.45</td>\n",
       "      <td>137.86</td>\n",
       "      <td>0.0</td>\n",
       "      <td>0.0</td>\n",
       "      <td>0.0</td>\n",
       "      <td>...</td>\n",
       "      <td>NEUQUINA</td>\n",
       "      <td>Neuquén</td>\n",
       "      <td>-69.792350</td>\n",
       "      <td>-38.963397</td>\n",
       "      <td>NO CONVENCIONAL</td>\n",
       "      <td>GAS PLUS</td>\n",
       "      <td>EXPLOTACION</td>\n",
       "      <td>DESARROLLO</td>\n",
       "      <td>TIGHT</td>\n",
       "      <td>2015-01-31</td>\n",
       "    </tr>\n",
       "    <tr>\n",
       "      <td>4</td>\n",
       "      <td>YSUR</td>\n",
       "      <td>2015</td>\n",
       "      <td>1</td>\n",
       "      <td>132356</td>\n",
       "      <td>0.0</td>\n",
       "      <td>2.84</td>\n",
       "      <td>11.41</td>\n",
       "      <td>0.0</td>\n",
       "      <td>0.0</td>\n",
       "      <td>0.0</td>\n",
       "      <td>...</td>\n",
       "      <td>NEUQUINA</td>\n",
       "      <td>Neuquén</td>\n",
       "      <td>-69.792362</td>\n",
       "      <td>-38.953810</td>\n",
       "      <td>NO CONVENCIONAL</td>\n",
       "      <td>GAS PLUS</td>\n",
       "      <td>EXPLOTACION</td>\n",
       "      <td>DESARROLLO</td>\n",
       "      <td>TIGHT</td>\n",
       "      <td>2015-01-31</td>\n",
       "    </tr>\n",
       "    <tr>\n",
       "      <td>...</td>\n",
       "      <td>...</td>\n",
       "      <td>...</td>\n",
       "      <td>...</td>\n",
       "      <td>...</td>\n",
       "      <td>...</td>\n",
       "      <td>...</td>\n",
       "      <td>...</td>\n",
       "      <td>...</td>\n",
       "      <td>...</td>\n",
       "      <td>...</td>\n",
       "      <td>...</td>\n",
       "      <td>...</td>\n",
       "      <td>...</td>\n",
       "      <td>...</td>\n",
       "      <td>...</td>\n",
       "      <td>...</td>\n",
       "      <td>...</td>\n",
       "      <td>...</td>\n",
       "      <td>...</td>\n",
       "      <td>...</td>\n",
       "      <td>...</td>\n",
       "    </tr>\n",
       "    <tr>\n",
       "      <td>123351</td>\n",
       "      <td>AESA</td>\n",
       "      <td>2014</td>\n",
       "      <td>12</td>\n",
       "      <td>146275</td>\n",
       "      <td>0.0</td>\n",
       "      <td>0.00</td>\n",
       "      <td>0.00</td>\n",
       "      <td>0.0</td>\n",
       "      <td>0.0</td>\n",
       "      <td>0.0</td>\n",
       "      <td>...</td>\n",
       "      <td>NEUQUINA</td>\n",
       "      <td>Neuquén</td>\n",
       "      <td>-69.751561</td>\n",
       "      <td>-38.796329</td>\n",
       "      <td>NO CONVENCIONAL</td>\n",
       "      <td>Sin Proyecto</td>\n",
       "      <td>EXPLORACION</td>\n",
       "      <td>EXPLORACION</td>\n",
       "      <td>SHALE</td>\n",
       "      <td>2014-12-31</td>\n",
       "    </tr>\n",
       "    <tr>\n",
       "      <td>123352</td>\n",
       "      <td>AESA</td>\n",
       "      <td>2015</td>\n",
       "      <td>12</td>\n",
       "      <td>146275</td>\n",
       "      <td>0.0</td>\n",
       "      <td>0.00</td>\n",
       "      <td>0.00</td>\n",
       "      <td>0.0</td>\n",
       "      <td>0.0</td>\n",
       "      <td>0.0</td>\n",
       "      <td>...</td>\n",
       "      <td>NEUQUINA</td>\n",
       "      <td>Neuquén</td>\n",
       "      <td>-69.751561</td>\n",
       "      <td>-38.796329</td>\n",
       "      <td>NO CONVENCIONAL</td>\n",
       "      <td>Sin Proyecto</td>\n",
       "      <td>EXPLORACION</td>\n",
       "      <td>EXPLORACION</td>\n",
       "      <td>SHALE</td>\n",
       "      <td>2015-12-31</td>\n",
       "    </tr>\n",
       "    <tr>\n",
       "      <td>123353</td>\n",
       "      <td>AESA</td>\n",
       "      <td>2016</td>\n",
       "      <td>12</td>\n",
       "      <td>146275</td>\n",
       "      <td>0.0</td>\n",
       "      <td>0.00</td>\n",
       "      <td>0.00</td>\n",
       "      <td>0.0</td>\n",
       "      <td>0.0</td>\n",
       "      <td>0.0</td>\n",
       "      <td>...</td>\n",
       "      <td>NEUQUINA</td>\n",
       "      <td>Neuquén</td>\n",
       "      <td>-69.751561</td>\n",
       "      <td>-38.796329</td>\n",
       "      <td>NO CONVENCIONAL</td>\n",
       "      <td>Sin Proyecto</td>\n",
       "      <td>EXPLORACION</td>\n",
       "      <td>EXPLORACION</td>\n",
       "      <td>SHALE</td>\n",
       "      <td>2016-12-31</td>\n",
       "    </tr>\n",
       "    <tr>\n",
       "      <td>123354</td>\n",
       "      <td>AESA</td>\n",
       "      <td>2017</td>\n",
       "      <td>12</td>\n",
       "      <td>146275</td>\n",
       "      <td>0.0</td>\n",
       "      <td>0.00</td>\n",
       "      <td>0.00</td>\n",
       "      <td>0.0</td>\n",
       "      <td>0.0</td>\n",
       "      <td>0.0</td>\n",
       "      <td>...</td>\n",
       "      <td>NEUQUINA</td>\n",
       "      <td>Neuquén</td>\n",
       "      <td>-69.751561</td>\n",
       "      <td>-38.796329</td>\n",
       "      <td>NO CONVENCIONAL</td>\n",
       "      <td>Sin Proyecto</td>\n",
       "      <td>EXPLORACION</td>\n",
       "      <td>EXPLORACION</td>\n",
       "      <td>SHALE</td>\n",
       "      <td>2017-12-31</td>\n",
       "    </tr>\n",
       "    <tr>\n",
       "      <td>123355</td>\n",
       "      <td>AESA</td>\n",
       "      <td>2018</td>\n",
       "      <td>12</td>\n",
       "      <td>146275</td>\n",
       "      <td>0.0</td>\n",
       "      <td>0.00</td>\n",
       "      <td>0.00</td>\n",
       "      <td>0.0</td>\n",
       "      <td>0.0</td>\n",
       "      <td>0.0</td>\n",
       "      <td>...</td>\n",
       "      <td>NEUQUINA</td>\n",
       "      <td>Neuquén</td>\n",
       "      <td>-69.751561</td>\n",
       "      <td>-38.796329</td>\n",
       "      <td>NO CONVENCIONAL</td>\n",
       "      <td>Sin Proyecto</td>\n",
       "      <td>EXPLORACION</td>\n",
       "      <td>EXPLORACION</td>\n",
       "      <td>SHALE</td>\n",
       "      <td>2018-12-31</td>\n",
       "    </tr>\n",
       "  </tbody>\n",
       "</table>\n",
       "<p>123356 rows × 40 columns</p>\n",
       "</div>"
      ],
      "text/plain": [
       "       idempresa  anio  mes  idpozo  prod_pet  prod_gas  prod_agua  iny_agua  \\\n",
       "0           YSUR  2015    1  129863       0.0    212.94     166.31       0.0   \n",
       "1           YSUR  2015    1  145329       0.0      0.00       0.00       0.0   \n",
       "2           YSUR  2015    1  130515       0.0     33.24      13.37       0.0   \n",
       "3           YSUR  2015    1  134486       0.0    495.45     137.86       0.0   \n",
       "4           YSUR  2015    1  132356       0.0      2.84      11.41       0.0   \n",
       "...          ...   ...  ...     ...       ...       ...        ...       ...   \n",
       "123351      AESA  2014   12  146275       0.0      0.00       0.00       0.0   \n",
       "123352      AESA  2015   12  146275       0.0      0.00       0.00       0.0   \n",
       "123353      AESA  2016   12  146275       0.0      0.00       0.00       0.0   \n",
       "123354      AESA  2017   12  146275       0.0      0.00       0.00       0.0   \n",
       "123355      AESA  2018   12  146275       0.0      0.00       0.00       0.0   \n",
       "\n",
       "        iny_gas  iny_co2  ...    cuenca  provincia  coordenadax coordenaday  \\\n",
       "0           0.0      0.0  ...  NEUQUINA    Neuquén   -69.799334  -38.966814   \n",
       "1           0.0      0.0  ...  NEUQUINA    Neuquén   -69.903384  -38.067634   \n",
       "2           0.0      0.0  ...  NEUQUINA    Neuquén   -69.785229  -38.949104   \n",
       "3           0.0      0.0  ...  NEUQUINA    Neuquén   -69.792350  -38.963397   \n",
       "4           0.0      0.0  ...  NEUQUINA    Neuquén   -69.792362  -38.953810   \n",
       "...         ...      ...  ...       ...        ...          ...         ...   \n",
       "123351      0.0      0.0  ...  NEUQUINA    Neuquén   -69.751561  -38.796329   \n",
       "123352      0.0      0.0  ...  NEUQUINA    Neuquén   -69.751561  -38.796329   \n",
       "123353      0.0      0.0  ...  NEUQUINA    Neuquén   -69.751561  -38.796329   \n",
       "123354      0.0      0.0  ...  NEUQUINA    Neuquén   -69.751561  -38.796329   \n",
       "123355      0.0      0.0  ...  NEUQUINA    Neuquén   -69.751561  -38.796329   \n",
       "\n",
       "        tipo_de_recurso      proyecto clasificacion       subclasificacion  \\\n",
       "0       NO CONVENCIONAL      GAS PLUS   EXPLOTACION             DESARROLLO   \n",
       "1       NO CONVENCIONAL      GAS PLUS   EXPLORACION  EXPLORATORIO PROFUNDO   \n",
       "2       NO CONVENCIONAL      GAS PLUS   EXPLOTACION             DESARROLLO   \n",
       "3       NO CONVENCIONAL      GAS PLUS   EXPLOTACION             DESARROLLO   \n",
       "4       NO CONVENCIONAL      GAS PLUS   EXPLOTACION             DESARROLLO   \n",
       "...                 ...           ...           ...                    ...   \n",
       "123351  NO CONVENCIONAL  Sin Proyecto   EXPLORACION            EXPLORACION   \n",
       "123352  NO CONVENCIONAL  Sin Proyecto   EXPLORACION            EXPLORACION   \n",
       "123353  NO CONVENCIONAL  Sin Proyecto   EXPLORACION            EXPLORACION   \n",
       "123354  NO CONVENCIONAL  Sin Proyecto   EXPLORACION            EXPLORACION   \n",
       "123355  NO CONVENCIONAL  Sin Proyecto   EXPLORACION            EXPLORACION   \n",
       "\n",
       "       sub_tipo_recurso  fecha_data  \n",
       "0                 TIGHT  2015-01-31  \n",
       "1                 SHALE  2015-01-31  \n",
       "2                 TIGHT  2015-01-31  \n",
       "3                 TIGHT  2015-01-31  \n",
       "4                 TIGHT  2015-01-31  \n",
       "...                 ...         ...  \n",
       "123351            SHALE  2014-12-31  \n",
       "123352            SHALE  2015-12-31  \n",
       "123353            SHALE  2016-12-31  \n",
       "123354            SHALE  2017-12-31  \n",
       "123355            SHALE  2018-12-31  \n",
       "\n",
       "[123356 rows x 40 columns]"
      ]
     },
     "execution_count": 134,
     "metadata": {},
     "output_type": "execute_result"
    }
   ],
   "source": [
    "df2"
   ]
  },
  {
   "cell_type": "code",
   "execution_count": 137,
   "metadata": {},
   "outputs": [],
   "source": [
    "serie2=df2['prod_gas'].astype(float)"
   ]
  },
  {
   "cell_type": "code",
   "execution_count": 139,
   "metadata": {},
   "outputs": [
    {
     "data": {
      "text/plain": [
       "<matplotlib.axes._subplots.AxesSubplot at 0x125a8a4d0>"
      ]
     },
     "execution_count": 139,
     "metadata": {},
     "output_type": "execute_result"
    },
    {
     "data": {
      "image/png": "[encoded data removed]",
      "text/plain": [
       "<Figure size 432x288 with 1 Axes>"
      ]
     },
     "metadata": {
      "needs_background": "light"
     },
     "output_type": "display_data"
    }
   ],
   "source": [
    "serie2.plot()"
   ]
  },
  {
   "cell_type": "code",
   "execution_count": 140,
   "metadata": {},
   "outputs": [
    {
     "data": {
      "text/plain": [
       "603.4264283121946"
      ]
     },
     "execution_count": 140,
     "metadata": {},
     "output_type": "execute_result"
    }
   ],
   "source": [
    "serie2.mean()"
   ]
  },
  {
   "cell_type": "code",
   "execution_count": null,
   "metadata": {},
   "outputs": [],
   "source": []
  }
 ],
 "metadata": {
  "kernelspec": {
   "display_name": "Python (curso_pae)",
   "language": "python",
   "name": "myenv"
  },
  "language_info": {
   "codemirror_mode": {
    "name": "ipython",
    "version": 3
   },
   "file_extension": ".py",
   "mimetype": "text/x-python",
   "name": "python",
   "nbconvert_exporter": "python",
   "pygments_lexer": "ipython3",
   "version": "3.7.4"
  }
 },
 "nbformat": 4,
 "nbformat_minor": 2
}
